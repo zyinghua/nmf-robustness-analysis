{
 "cells": [
  {
   "cell_type": "markdown",
   "id": "4bbf6c52",
   "metadata": {},
   "source": [
    "# COMP5328 - Advanced Machine Learning\n",
    "## Assignment 1: Non-negative Matrix Factorization \n",
    "\n",
    "## Implementation"
   ]
  },
  {
   "cell_type": "markdown",
   "id": "31fad0a7",
   "metadata": {},
   "source": [
    "#### Authors:\n",
    "1. Yinghua Zhou | SID: 530833345 | UniKey: yzho0423\n",
    "2.\n",
    "3."
   ]
  },
  {
   "cell_type": "code",
   "execution_count": 1,
   "id": "ca597d69",
   "metadata": {},
   "outputs": [],
   "source": [
    "import os\n",
    "import numpy as np\n",
    "from PIL import Image\n",
    "import matplotlib.pyplot as plt\n",
    "from time import time\n",
    "from collections import Counter\n",
    "from sklearn.cluster import KMeans\n",
    "from sklearn.metrics import accuracy_score\n",
    "from sklearn.metrics import normalized_mutual_info_score\n",
    "from sklearn.metrics import mean_squared_error\n",
    "import warnings\n",
    "\n",
    "warnings.simplefilter('ignore')"
   ]
  },
  {
   "cell_type": "markdown",
   "id": "86453029",
   "metadata": {},
   "source": [
    "## 1. Load Dataset"
   ]
  },
  {
   "cell_type": "markdown",
   "id": "1958a3af",
   "metadata": {},
   "source": [
    "### Load ORL Dataset and Extended YaleB Dataset. (Description from the assignment suplementary ipynb file)\n",
    "- ORL dataset contains ten different images of each of 40 distinct subjects. For some subjects, the images were taken at different times, varying the lighting, facial expressions (open / closed eyes, smiling / not smiling) and facial details (glasses / no glasses). All the images were taken against a dark homogeneous background with the subjects in an upright, frontal position (with tolerance for some side movement). The size of each image is 92x112 pixels, with 256 grey levels per pixel. To further reduce the computation complexity, you can resize all images to 46x56 pixels.\n",
    "\n",
    "\n",
    "- Extended YaleB dataset contains 2414 images of 38 human subjects under 9 poses and 64 illumination conditions. All images are manually aligned, cropped, and then resized to 168x192 pixels. To further reduce the computation complexity, you can resize all images to 42x48 pixels."
   ]
  },
  {
   "cell_type": "code",
   "execution_count": 2,
   "id": "10d06ef5",
   "metadata": {},
   "outputs": [],
   "source": [
    "def load_data(root, reduce):\n",
    "    \"\"\"\n",
    "    Load ORL (or Extended YaleB) dataset to numpy array.\n",
    "\n",
    "    Args:\n",
    "        root: path to dataset.\n",
    "        reduce: scale factor for zooming out images.\n",
    "\n",
    "    Acknowledgement: This function is completely from the assignment 1 instruction ipynb file of COMP4328/5328\n",
    "    Advanced Machine Learning course at University of Sydney. For the purpose of loading data only.\n",
    "    \"\"\"\n",
    "    images, labels = [], []\n",
    "\n",
    "    for i, person in enumerate(sorted(os.listdir(root))):\n",
    "\n",
    "        if not os.path.isdir(os.path.join(root, person)):\n",
    "            continue\n",
    "\n",
    "        for fname in os.listdir(os.path.join(root, person)):\n",
    "\n",
    "            # Remove background images in Extended YaleB dataset.\n",
    "            if fname.endswith('Ambient.pgm'):\n",
    "                continue\n",
    "\n",
    "            if not fname.endswith('.pgm'):\n",
    "                continue\n",
    "\n",
    "            # load image.\n",
    "            img = Image.open(os.path.join(root, person, fname))\n",
    "            img = img.convert('L')  # grey image.\n",
    "\n",
    "            # reduce computation complexity.\n",
    "            img = img.resize([s // reduce for s in img.size])\n",
    "\n",
    "            # TODO: preprocessing.\n",
    "\n",
    "            # convert image to numpy array.\n",
    "            img = np.asarray(img).reshape((-1, 1))\n",
    "\n",
    "            # collect data and label.\n",
    "            images.append(img / 255.0)  # normalize to [0, 1], easier to work with for many algorithms.\n",
    "            labels.append(i)\n",
    "\n",
    "    # concat all images and labels.\n",
    "    images = np.concatenate(images, axis=1)\n",
    "    labels = np.array(labels)\n",
    "\n",
    "    return images, labels"
   ]
  },
  {
   "cell_type": "markdown",
   "id": "8cfc0dd8",
   "metadata": {},
   "source": [
    "##### Load the YaleB dataset:"
   ]
  },
  {
   "cell_type": "code",
   "execution_count": 3,
   "id": "123a03fe",
   "metadata": {
    "scrolled": true
   },
   "outputs": [],
   "source": [
    "# reduce_ = 4\n",
    "\n",
    "# # Load Extended YaleB dataset.\n",
    "# X_hat, Y_hat = load_data(root='../data/CroppedYaleB', reduce=reduce_)\n",
    "# print('Extended YaleB dataset: X_hat.shape = {}, Y_hat.shape = {}'.format(X_hat.shape, Y_hat.shape))\n",
    "# img_size = [i // reduce_ for i in (168, 192)]"
   ]
  },
  {
   "cell_type": "markdown",
   "id": "2e97bbec",
   "metadata": {},
   "source": [
    "##### Load the ORL dataset (Please uncomment when working on the YaleB dataset)"
   ]
  },
  {
   "cell_type": "code",
   "execution_count": 4,
   "id": "afdb1501",
   "metadata": {
    "scrolled": true
   },
   "outputs": [
    {
     "name": "stdout",
     "output_type": "stream",
     "text": [
      "ORL dataset: X_hat.shape = (1110, 400), Y_hat.shape = (400,)\n"
     ]
    }
   ],
   "source": [
    "reduce_ = 3\n",
    "\n",
    "# Load ORL dataset.\n",
    "X_hat, Y_hat = load_data(root='../data/ORL', reduce=reduce_)\n",
    "print('ORL dataset: X_hat.shape = {}, Y_hat.shape = {}'.format(X_hat.shape, Y_hat.shape))\n",
    "img_size = [i // reduce_ for i in (92, 112)]"
   ]
  },
  {
   "cell_type": "markdown",
   "id": "340f2d83",
   "metadata": {},
   "source": [
    "##### Definition of some globally consistent hyper-parameters"
   ]
  },
  {
   "cell_type": "code",
   "execution_count": 5,
   "id": "f9fc479c",
   "metadata": {},
   "outputs": [],
   "source": [
    "global_n_components = 80 if img_size[1] == 2414 else 40  # Number of dictionary components\n",
    "global_max_step = 1000 if img_size[1] == 2414 else 500 # Maximum step size (training loop)"
   ]
  },
  {
   "cell_type": "markdown",
   "id": "60a16bed",
   "metadata": {},
   "source": [
    "##  2. Noise Adder Functions"
   ]
  },
  {
   "cell_type": "code",
   "execution_count": 6,
   "id": "b7ebf787",
   "metadata": {},
   "outputs": [],
   "source": [
    "def add_gaussian_noise(img, mean=0, sd=0.05):\n",
    "    \"\"\"\n",
    "     In a sense, the standard deviation in gaussian noise can be thought of\n",
    "     as the degree of noise, and mean as the standard noise.\n",
    "\n",
    "    :param img: Original image.\n",
    "    :param mean: Mean of the gaussian noise.\n",
    "    :param sd: Standard deviation of the gaussian noise.\n",
    "    :return: Noisy image.\n",
    "    \"\"\"\n",
    "    noise = np.random.normal(mean, sd, img.shape)\n",
    "\n",
    "    return np.clip(img + noise, 0, 1)"
   ]
  },
  {
   "cell_type": "code",
   "execution_count": 7,
   "id": "2e8e1e17",
   "metadata": {},
   "outputs": [],
   "source": [
    "def add_salt_pepper_noise(img, noise_prob=0.3, salt_prob=0.5):\n",
    "    \"\"\"\n",
    "    Add salt and pepper noise to the image.\n",
    "    :param img: Original image.\n",
    "    :param noise_prob: Probability of the noise.\n",
    "    :param salt_prob: Probability of the salt noise. Pepper noise is 1 - salt_prob.\n",
    "    :return: Noisy image.\n",
    "    \"\"\"\n",
    "    # Create a mask for the pixels that will have noise\n",
    "    noise_mask = np.random.rand(*img.shape) < noise_prob\n",
    "\n",
    "    # Create a mask for salt (within the previously chosen noise pixels)\n",
    "    salt_mask = np.random.rand(*img.shape) < salt_prob\n",
    "\n",
    "    # Copy the original image\n",
    "    noisy_img = img.copy()\n",
    "\n",
    "    # Apply salt and pepper noise using the masks\n",
    "    noisy_img[noise_mask & salt_mask] = 1  # apply salt noise\n",
    "    noisy_img[noise_mask & ~salt_mask] = 0  # apply pepper noise\n",
    "\n",
    "    return noisy_img"
   ]
  },
  {
   "cell_type": "code",
   "execution_count": 8,
   "id": "c05f6b12",
   "metadata": {},
   "outputs": [],
   "source": [
    "def add_block_occlusion_noise(img, img_size, width=0.3, height=0.3):\n",
    "    assert width < 1, \"width needs to be less than 1\"\n",
    "    assert height < 1, \"height needs to be less than 1\"\n",
    "    \n",
    "    img_copy = img.copy()\n",
    "    \n",
    "    num_samples = img_copy.shape[1]\n",
    "    \n",
    "    img_copy = img_copy.T.reshape(num_samples, img_size[1], img_size[0])\n",
    "    \n",
    "    block_height = int(img_size[1] * height)\n",
    "    block_width = int(img_size[0] * width)\n",
    "    \n",
    "    for i in range(num_samples):\n",
    "        start_x = np.random.randint(0, img_size[0] - block_width)\n",
    "        start_y = np.random.randint(0, img_size[1] - block_height)\n",
    "        \n",
    "        img_copy[i, start_y:start_y+block_height, start_x:start_x+block_width] = 1  # Set to white\n",
    "    \n",
    "    return img_copy.reshape(num_samples, img_size[0] * img_size[1]).T"
   ]
  },
  {
   "cell_type": "code",
   "execution_count": 9,
   "id": "b38170d8",
   "metadata": {},
   "outputs": [],
   "source": [
    "# # Randomly sample a subset of images from the dataset\n",
    "# n_samples = 100#int(X_hat.shape[1] * train_size_ratio)\n",
    "# sample_idx = np.random.choice(X_hat.shape[1], n_samples, replace=False) # Randomly pick samples\n",
    "# X_hat = X_hat[:, sample_idx] # Sampled matrix\n",
    "# Y_hat = Y_hat[sample_idx]"
   ]
  },
  {
   "cell_type": "markdown",
   "id": "092ff5e2",
   "metadata": {},
   "source": [
    "##### Select the noise type: 0 for Gaussian, 1 for salt-pepper, 2 for block occlusion"
   ]
  },
  {
   "cell_type": "code",
   "execution_count": 10,
   "id": "aa1962a3",
   "metadata": {},
   "outputs": [],
   "source": [
    "# 0 for Gaussian, 1 for salt-pepper, 2 for block occlusion\n",
    "n_id = 3\n",
    "\n",
    "if n_id == 1:\n",
    "    X_noise = add_gaussian_noise(X_hat, sd=0.1)\n",
    "elif n_id == 2:\n",
    "    X_noise = add_salt_pepper_noise(X_hat, noise_prob=0.15, salt_prob=0.5)\n",
    "else:\n",
    "    X_noise = add_block_occlusion_noise(X_hat, img_size, width=0.3, height=0.3)"
   ]
  },
  {
   "cell_type": "markdown",
   "id": "0c8b7e40",
   "metadata": {},
   "source": [
    "##### Example of the applied noise. (Image displayed in randomly chosen)"
   ]
  },
  {
   "cell_type": "code",
   "execution_count": 11,
   "id": "36812a0a",
   "metadata": {
    "scrolled": false
   },
   "outputs": [
    {
     "data": {
      "image/png": "[encoded data removed]",
      "text/plain": [
       "<Figure size 720x360 with 2 Axes>"
      ]
     },
     "metadata": {
      "needs_background": "light"
     },
     "output_type": "display_data"
    }
   ],
   "source": [
    "noise_demo_img_index = np.random.randint(0, X_noise.shape[1])\n",
    "\n",
    "plt.figure(figsize=(10,5))\n",
    "plt.subplot(121)\n",
    "plt.title(\"Original Image\", fontsize=16)\n",
    "plt.imshow(X_hat[:,noise_demo_img_index].reshape(img_size[1], img_size[0]), cmap=plt.cm.gray)\n",
    "\n",
    "plt.subplot(122)\n",
    "plt.title(\"Noisy Image\", fontsize=16)\n",
    "plt.imshow(X_noise[:,noise_demo_img_index].reshape(img_size[1], img_size[0]), cmap=plt.cm.gray)\n",
    "\n",
    "plt.show()"
   ]
  },
  {
   "cell_type": "markdown",
   "id": "e9600422",
   "metadata": {},
   "source": [
    "## 3. Evaluation Metrics"
   ]
  },
  {
   "cell_type": "markdown",
   "id": "2ae91701",
   "metadata": {},
   "source": [
    "##### We apply the following three metrics for our evaluation:\n",
    "1. Relative Reconstruction Error (RRE):\n",
    "\n",
    "    $RRE(V, W, H) = \\frac{||V - WH||_F}{||V||_F}$\n",
    "       \n",
    "    Where V is the original clean data matrix, W is the dictionary matrix and H is the transformed data matrix.\n",
    "\n",
    "\n",
    "2. Averaged Accuracy\n",
    "\n",
    "    $Acc(Y, Y_{pred}) = \\frac{1}{n}\\sum_{i=1}^n 1\\{Y_{pred(i)} == Y(i)\\}$\n",
    "    \n",
    "    \n",
    "3. Normalized Mutual Information (NMI).\n",
    "\n",
    "    $NMI(Y, Y_{pred}) = \\frac{2*I(Y, Y_{pred})}{H(Y) + H(Y_{pred})}$\n",
    "   \n",
    "   Where $I(.,.)$ is mutual information and  $𝐻(⋅)$ is entropy."
   ]
  },
  {
   "cell_type": "code",
   "execution_count": 12,
   "id": "bb8085a3",
   "metadata": {},
   "outputs": [],
   "source": [
    "def assign_cluster_label(X, Y):\n",
    "    \"\"\"\n",
    "    Assign cluster labels to the transformed data matrix via KMeans clustering.\n",
    "    :param X: Transformed data matrix.\n",
    "    :param Y: Original labels.\n",
    "    :return: Y_pred\n",
    "\n",
    "    Acknowledgement: This function is completely from the assignment 1 instruction ipynb file of COMP4328/5328\n",
    "    Advanced Machine Learning course at University of Sydney.\n",
    "    \"\"\"\n",
    "    kmeans = KMeans(n_clusters=len(set(Y)), random_state=0).fit(X)\n",
    "    Y_pred = np.zeros(Y.shape)\n",
    "    for i in set(kmeans.labels_):\n",
    "        \"\"\"for each centroid, label its instances by majority\"\"\"\n",
    "        ind = kmeans.labels_ == i  # get the index of instances which labeled as i\n",
    "        Y_pred[ind] = Counter(Y[ind]).most_common(1)[0][0]  # assign label.\n",
    "    return Y_pred\n",
    "\n",
    "\n",
    "def calc_rre(V_clean, W, H):\n",
    "    \"\"\"\n",
    "    Calculate the Relative Reconstruction Error (RRE) between the original data matrix and the reconstructed data matrix.\n",
    "    :return: RRE\n",
    "    \"\"\"\n",
    "    return np.linalg.norm(V_clean - W @ H, ord=\"fro\") / np.linalg.norm(V_clean, ord=\"fro\")\n",
    "\n",
    "\n",
    "def calc_aa(Y, Y_pred):\n",
    "    \"\"\"Calculate the Average Accuracy (AA) between the original labels and the predicted labels.\"\"\"\n",
    "    return accuracy_score(Y, Y_pred)\n",
    "\n",
    "\n",
    "def calc_nmi(Y, Y_pred):\n",
    "    \"\"\"Calculate the Normalized Mutual Information (NMI) between the original labels and the predicted labels.\"\"\"\n",
    "    return normalized_mutual_info_score(Y, Y_pred)\n",
    "\n",
    "\n",
    "def evaluate(V_clean, W, H, Y):\n",
    "    \"\"\"\n",
    "    Evaluate the performance of the model by calculating the following metrics:\n",
    "    1. Relative Reconstruction Error (RRE)\n",
    "    2. Average Accuracy\n",
    "    3. Normalized Mutual Information (NMI)\n",
    "\n",
    "    :return: RRE, AA, NMI\n",
    "    \"\"\"\n",
    "    assert V_clean is not None, \"Please provide the original non-contaminated data matrix from the dataset.\"\n",
    "    assert W is not None, \"Please provide the dictionary matrix.\"\n",
    "    assert H is not None, \"Please provide the transformed data matrix.\"\n",
    "    assert Y is not None, \"Please provide the original labels from the dataset.\"\n",
    "\n",
    "    rre = calc_rre(V_clean, W, H)\n",
    "\n",
    "    Y_pred = assign_cluster_label(H.T, Y)\n",
    "    # Y_pred_ori = assign_cluster_label(V_clean.T, Y)\n",
    "    \n",
    "    aa = calc_aa(Y, Y_pred)\n",
    "    nmi = calc_nmi(Y, Y_pred)\n",
    "\n",
    "    return rre, aa, nmi\n",
    "\n",
    "\n",
    "def plot_metrics(rre, aa, nmi, plot_interval):\n",
    "    plt.figure(figsize=(15, 5))\n",
    "\n",
    "    # Plot for Rooted Mean Squared Error\n",
    "    plt.subplot(1, 3, 1)  # 1 row, 3 columns, first plot\n",
    "    plt.plot(np.array(range(len(rre))) * plot_interval, rre)\n",
    "    plt.xlabel('Steps')\n",
    "    plt.ylabel('Rooted Mean Squared Error')\n",
    "    plt.title('Rooted Mean Squared Error')\n",
    "\n",
    "    # Plot for Average Accuracy\n",
    "    plt.subplot(1, 3, 2)  # 1 row, 3 columns, second plot\n",
    "    plt.plot(np.array(range(len(aa))) * plot_interval, aa)\n",
    "    plt.xlabel('Steps')\n",
    "    plt.ylabel('Average Accuracy')\n",
    "    plt.title('Average Accuracy')\n",
    "\n",
    "    # Plot for Normalized Mutual Information\n",
    "    plt.subplot(1, 3, 3)  # 1 row, 3 columns, third plot\n",
    "    plt.plot(np.array(range(len(nmi))) * plot_interval, nmi)\n",
    "    plt.xlabel('Steps')\n",
    "    plt.ylabel('Normalized Mutual Information')\n",
    "    plt.title('Normalized Mutual Information')\n",
    "\n",
    "    # Show all plots\n",
    "    plt.tight_layout()\n",
    "    plt.show()"
   ]
  },
  {
   "cell_type": "markdown",
   "id": "f82a591a",
   "metadata": {},
   "source": [
    "## 4. NMF Algorithms"
   ]
  },
  {
   "cell_type": "markdown",
   "id": "7eb03f26",
   "metadata": {},
   "source": [
    "### 4.1 L2 Norm based Standard NMF (via MUR)"
   ]
  },
  {
   "cell_type": "code",
   "execution_count": 13,
   "id": "c9424f31",
   "metadata": {},
   "outputs": [],
   "source": [
    "class L2NormMURNMF:\n",
    "    def __init__(self, rank, random_state=0):\n",
    "        \"\"\"\n",
    "        Initialize the L2-Norm Multiplicative Update Rule Non-Negative Matrix Factorization model.\n",
    "        Hyper-parameters are defined here.\n",
    "\n",
    "        :param rank: Rank of the dictionary matrix. Latent dimension.\n",
    "        :param random_state: Random seed.\n",
    "        \"\"\"\n",
    "        assert rank is not None and rank > 0, \"Please provide a valid integer for the rank of the dictionary matrix.\"\n",
    "\n",
    "        self.np_rand = np.random.RandomState(random_state)\n",
    "        self.rank = rank\n",
    "        self.V_clean, self.V, self.W, self.H, self.Y = None, None, None, None, None\n",
    "\n",
    "    def init_factors(self, V):\n",
    "        \"\"\"\n",
    "        Initialize the dictionary matrix and transformed data matrix *randomly*.\n",
    "\n",
    "        :param V: Original data matrix.\n",
    "        :return: W, H\n",
    "        \"\"\"\n",
    "        \n",
    "        self.W = np.abs(np.random.normal(loc=0, scale=1, size=(V.shape[0], self.rank)))\n",
    "        self.H = np.abs(np.random.normal(loc=0, scale=1, size=(self.rank, V.shape[1])))\n",
    "\n",
    "    def reconstruct_train(self):\n",
    "        \"\"\"\n",
    "        Reconstruct the trained data matrix from the dictionary matrix and transformed data matrix.\n",
    "\n",
    "        :return: approximated V\n",
    "        \"\"\"\n",
    "        return self.W @ self.H\n",
    "\n",
    "    def fit_transform(self, V_clean, V, Y, steps=1000, e=1e-7, d=1e-6, verbose=False, plot=False, plot_interval=50):\n",
    "        \"\"\"\n",
    "        Perform *Multiplicative Update Rule* for Non-Negative Matrix Factorization.\n",
    "\n",
    "        :param V_clean: Original non-contaminated data matrix.\n",
    "        :param V: Original data matrix. (Contains contamination)\n",
    "        :param Y: Original labels.\n",
    "        :param steps: Number of iterations.\n",
    "        :param e: epsilon, added to the updates avoid numerical instability\n",
    "        :param d: delta, threshold for rate of change at each step\n",
    "        :param verbose: True to print out the convergence information\n",
    "        :param plot: True to plot the convergence curve on the three nominated metrics\n",
    "        :param plot_interval: Plot the convergence curve on the metrics every plot_interval step\n",
    "        :return: W, H\n",
    "\n",
    "        Acknowledgement: This function is inspired by and has components from the corresponding function\n",
    "        in the week 6 tutorial ipynb file of COMP4328/5328 Advanced Machine Learning course at University of Sydney.\n",
    "        \"\"\"\n",
    "        assert V_clean is not None, \"Please provide the original non-contaminated data matrix from the dataset.\"\n",
    "        assert V is not None, \"Please provide the original data matrix from the dataset.\"\n",
    "        assert Y is not None, \"Please provide the original labels from the dataset.\"\n",
    "\n",
    "        self.init_factors(V)\n",
    "        self.V_clean, self.V, self.Y = V_clean, V, Y\n",
    "\n",
    "        rre, aa, nmi = [], [], []\n",
    "        \n",
    "        if verbose:\n",
    "            print(\"Start training...\")\n",
    "\n",
    "        start = time()\n",
    "\n",
    "        for s in range(steps):\n",
    "            \"\"\"Please note in the corresponding tutorial, H is updated first, then W.\"\"\"\n",
    "            Hu = self.H * (self.W.T @ self.V) / (self.W.T @ self.W @ self.H + e) + e  # Update H\n",
    "            Wu = self.W * (self.V @ Hu.T) / (self.W @ Hu @ Hu.T + e) + e  # Update W\n",
    "\n",
    "            d_W = np.sqrt(np.sum((Wu-self.W)**2, axis=(0, 1)))/self.W.size\n",
    "            d_H = np.sqrt(np.sum((Hu-self.H)**2, axis=(0, 1)))/self.H.size\n",
    "\n",
    "            if d_W < d and d_H < d:\n",
    "                if verbose:\n",
    "                    print('Converged at step {}.'.format(s))\n",
    "                break\n",
    "\n",
    "            self.W = Wu\n",
    "            self.H = Hu\n",
    "\n",
    "            if plot and s % plot_interval == 0:\n",
    "                rre_, aa_, nmi_ = evaluate(self.V_clean, self.W, self.H, self.Y)\n",
    "                rre.append(rre_)\n",
    "                aa.append(aa_)\n",
    "                nmi.append(nmi_)\n",
    "\n",
    "                if verbose:\n",
    "                    print('Step: {}, RRE: {:.4f}, AA: {:.4f}, NMI: {:.4f}'.format(s, rre_, aa_, nmi_))\n",
    "\n",
    "        if plot:\n",
    "            plot_metrics(rre, aa, nmi, plot_interval)\n",
    "\n",
    "        if verbose:\n",
    "            print('Training Time taken: {:.2f} seconds.'.format(time()-start))\n",
    "\n",
    "        return self.W, self.H"
   ]
  },
  {
   "cell_type": "markdown",
   "id": "5523e833",
   "metadata": {},
   "source": [
    "##### Train L2 Norm based Standard NMF"
   ]
  },
  {
   "cell_type": "code",
   "execution_count": 14,
   "id": "5ef99b6b",
   "metadata": {
    "scrolled": false
   },
   "outputs": [
    {
     "name": "stdout",
     "output_type": "stream",
     "text": [
      "Start training...\n",
      "Step: 0, RRE: 0.3125, AA: 0.1725, NMI: 0.3077\n",
      "Step: 50, RRE: 0.3224, AA: 0.2325, NMI: 0.3934\n",
      "Step: 100, RRE: 0.3231, AA: 0.2700, NMI: 0.4382\n",
      "Step: 150, RRE: 0.3214, AA: 0.2750, NMI: 0.4274\n",
      "Step: 200, RRE: 0.3209, AA: 0.2925, NMI: 0.4383\n",
      "Step: 250, RRE: 0.3206, AA: 0.3175, NMI: 0.4797\n",
      "Step: 300, RRE: 0.3204, AA: 0.2950, NMI: 0.4679\n",
      "Step: 350, RRE: 0.3203, AA: 0.2900, NMI: 0.4380\n",
      "Step: 400, RRE: 0.3202, AA: 0.3100, NMI: 0.4403\n",
      "Step: 450, RRE: 0.3201, AA: 0.2950, NMI: 0.4515\n"
     ]
    },
    {
     "data": {
      "image/png": "[encoded data removed]",
      "text/plain": [
       "<Figure size 1080x360 with 3 Axes>"
      ]
     },
     "metadata": {
      "needs_background": "light"
     },
     "output_type": "display_data"
    },
    {
     "name": "stdout",
     "output_type": "stream",
     "text": [
      "Training Time taken: 2.19 seconds.\n"
     ]
    }
   ],
   "source": [
    "model1_n_components = global_n_components\n",
    "\n",
    "model1 = L2NormMURNMF(model1_n_components)\n",
    "\n",
    "_, _ = model1.fit_transform(X_hat, X_noise, Y_hat, steps=global_max_step, verbose=True, plot=True)"
   ]
  },
  {
   "cell_type": "markdown",
   "id": "a2fda556",
   "metadata": {},
   "source": [
    "##### Evaluate the output model using the pre-defined metrics"
   ]
  },
  {
   "cell_type": "code",
   "execution_count": 15,
   "id": "c52034e6",
   "metadata": {
    "scrolled": false
   },
   "outputs": [
    {
     "name": "stdout",
     "output_type": "stream",
     "text": [
      "RRE: 0.32006016940036963, Average Accuracy: 0.2875, NMI: 0.4441261811063279\n"
     ]
    }
   ],
   "source": [
    "rre, aa, nmi = evaluate(X_hat, model1.W, model1.H, Y_hat)\n",
    "print(f\"RRE: {rre}, Average Accuracy: {aa}, NMI: {nmi}\")"
   ]
  },
  {
   "cell_type": "code",
   "execution_count": 16,
   "id": "fd70582d",
   "metadata": {},
   "outputs": [],
   "source": [
    "X_rec = model1.reconstruct_train()"
   ]
  },
  {
   "cell_type": "markdown",
   "id": "0eda65d0",
   "metadata": {},
   "source": [
    "##### Print out the dictionary components"
   ]
  },
  {
   "cell_type": "code",
   "execution_count": 17,
   "id": "81744c76",
   "metadata": {
    "scrolled": true
   },
   "outputs": [
    {
     "data": {
      "image/png": "[encoded data removed]",
      "text/plain": [
       "<Figure size 1080x360 with 40 Axes>"
      ]
     },
     "metadata": {
      "needs_background": "light"
     },
     "output_type": "display_data"
    }
   ],
   "source": [
    "# Print out dictionary components\n",
    "\n",
    "plt.figure(figsize=(15,5))\n",
    "\n",
    "for i in range(model1_n_components // 10):\n",
    "    for j in range(10):\n",
    "        plt.subplot(model1_n_components // 10, 10, i * 10 + j + 1)\n",
    "        plt.imshow(model1.W[:, i * 10 + j].reshape(img_size[1], img_size[0]), cmap=plt.cm.gray)\n",
    "        \n",
    "plt.suptitle('Learned Dictionary Components', fontsize=16)\n",
    "plt.show()"
   ]
  },
  {
   "cell_type": "markdown",
   "id": "a8c51811",
   "metadata": {},
   "source": [
    "##### Display the original clean image, noise applied image and the reconstructed image by Standard NMF of a randomly chosen image sample"
   ]
  },
  {
   "cell_type": "code",
   "execution_count": 18,
   "id": "6ac01e18",
   "metadata": {},
   "outputs": [
    {
     "name": "stdout",
     "output_type": "stream",
     "text": [
      "image index:  242\n"
     ]
    },
    {
     "data": {
      "text/plain": [
       "<matplotlib.image.AxesImage at 0x1c2fa57d610>"
      ]
     },
     "execution_count": 18,
     "metadata": {},
     "output_type": "execute_result"
    },
    {
     "data": {
      "image/png": "[encoded data removed]",
      "text/plain": [
       "<Figure size 1080x360 with 3 Axes>"
      ]
     },
     "metadata": {
      "needs_background": "light"
     },
     "output_type": "display_data"
    }
   ],
   "source": [
    "s = np.random.randint(0, X_hat.shape[1])\n",
    "print(\"image index: \", s)\n",
    "\n",
    "plt.figure(figsize=(15,5))\n",
    "plt.subplot(131)\n",
    "plt.title(\"Original Image\", fontsize=16)\n",
    "plt.imshow(X_hat[:,s].reshape(img_size[1], img_size[0]), cmap=plt.cm.gray)\n",
    "\n",
    "plt.subplot(132)\n",
    "plt.title(\"Noisy Image\", fontsize=16)\n",
    "plt.imshow(X_noise[:,s].reshape(img_size[1], img_size[0]), cmap=plt.cm.gray)\n",
    "\n",
    "plt.subplot(133)\n",
    "plt.title(\"Reconstructed Image\", fontsize=16)\n",
    "plt.imshow(X_rec[:,s].reshape(img_size[1], img_size[0]), cmap=plt.cm.gray)"
   ]
  },
  {
   "cell_type": "markdown",
   "id": "075b0a76",
   "metadata": {},
   "source": [
    "### 4.2 Robust Nonnegative Matrix Factorization via L1 Norm Regularization (L1 Norm based Robust NMF)"
   ]
  },
  {
   "cell_type": "code",
   "execution_count": 19,
   "id": "e1d1943b",
   "metadata": {},
   "outputs": [],
   "source": [
    "class L1NormRobustNMF:\n",
    "    def __init__(self, rank, lambda_=0.04, random_state=0):\n",
    "        \"\"\"\n",
    "        Initialization of the Robust Non-negative Matrix Factorization via L1 Norm Regularization NMF model.\n",
    "        Hyper-parameters are defined here.\n",
    "\n",
    "        :param rank: Rank of the dictionary matrix. Latent dimension.\n",
    "        :param lambda_: Regularization parameter.\n",
    "        :param random_state: Random seed.\n",
    "        \"\"\"\n",
    "        assert rank is not None and rank > 0, \"Please provide a valid integer for the rank of the dictionary matrix.\"\n",
    "        assert lambda_ is not None and lambda_ > 0, \"Please provide a valid numeric for the regularization parameter.\"\n",
    "\n",
    "        self.np_rand = np.random.RandomState(random_state)\n",
    "        self.k = rank\n",
    "        self.lambda_ = lambda_\n",
    "\n",
    "        self.X_clean, self.X, self.W, self.H, self.E, self.Y = None, None, None, None, None, None\n",
    "        self.m, self.n = None, None  # Number of features/pixels, and number of samples (rows and cols)\n",
    "\n",
    "    def init_factors(self, X):\n",
    "        \"\"\"\n",
    "        Initialize the dictionary matrix and transformed data matrix and\n",
    "        the noise matrix *randomly* according to Normal Distribution.\n",
    "\n",
    "        :param X: Original data matrix.\n",
    "        :return: W, H, E\n",
    "        \"\"\"\n",
    "\n",
    "        self.m, self.n = X.shape\n",
    "\n",
    "        self.W = np.abs(np.random.normal(loc=0, scale=1, size=(self.m, self.k)))\n",
    "        self.H = np.abs(np.random.normal(loc=0, scale=1, size=(self.k, self.n)))\n",
    "        self.E = np.abs(np.random.normal(loc=0, scale=1, size=(self.m, self.n)))\n",
    "\n",
    "        return self.W, self.H, self.E\n",
    "\n",
    "    def reconstruct_train(self):\n",
    "        \"\"\"\n",
    "        Reconstruct the clean data matrix from the dictionary matrix and transformed data matrix.\n",
    "\n",
    "        :return: approximated clean data matrix.\n",
    "        \"\"\"\n",
    "        return self.W @ self.H\n",
    "\n",
    "    def fit_transform(self, X_clean, X, Y, steps=1000, e=1e-7, d=1e-6, verbose=False, plot=False, plot_interval=50):\n",
    "        \"\"\"\n",
    "        Perform the model learning via the specific MURs stated in the paper.\n",
    "\n",
    "        :param X_clean: Original non-contaminated data matrix.\n",
    "        :param X: Original contaminated data matrix.\n",
    "        :param Y: Original labels.\n",
    "        :param steps: Number of iterations.\n",
    "        :param e: epsilon, for numerical instability.\n",
    "        :param d: delta, param change threshold for stopping.\n",
    "        :param verbose: True to print out the convergence information.\n",
    "        :param plot: True to plot the convergence curve on the three nominated metrics.\n",
    "        :param plot_interval: Plot the convergence curve on the metrics every plot_interval step.\n",
    "        :return: U, V, E\n",
    "        \"\"\"\n",
    "        assert X_clean is not None, \"Please provide the original non-contaminated data matrix from the dataset.\"\n",
    "        assert X is not None, \"Please provide the original data matrix from the dataset.\"\n",
    "        assert Y is not None, \"Please provide the original labels from the dataset.\"\n",
    "\n",
    "        self.init_factors(X)\n",
    "        self.X_clean, self.X, self.Y = X_clean, X, Y\n",
    "\n",
    "        rre, aa, nmi = [], [], []\n",
    "\n",
    "        if verbose:\n",
    "            print(\"Start training...\")\n",
    "\n",
    "        start = time()\n",
    "\n",
    "        for s in range(steps):\n",
    "            X_hat = self.X - self.E\n",
    "            Wu = self.W * ((X_hat @ self.H.T) / (self.W @ self.H @ self.H.T + e))\n",
    "\n",
    "            Ep = (np.abs(self.E) + self.E) / 2\n",
    "            En = (np.abs(self.E) - self.E) / 2\n",
    "\n",
    "            V_tilde = np.vstack((self.H, np.vstack((Ep, En))))\n",
    "\n",
    "            X_tilde = np.vstack((self.X, np.zeros(self.n)))\n",
    "\n",
    "            I = np.eye(self.m)\n",
    "\n",
    "            e_m = np.full((1, self.m), np.sqrt(self.lambda_) * np.exp(1))\n",
    "            U_tilde = np.vstack((np.hstack((Wu, I, -I)), np.hstack((np.zeros((1, self.k)), e_m, e_m))))\n",
    "\n",
    "            V_tilde = np.maximum(0, V_tilde - ((V_tilde * (U_tilde.T @ U_tilde @ V_tilde)) / (\n",
    "                        np.abs(U_tilde.T @ U_tilde @ V_tilde) + e))\n",
    "                                 + ((V_tilde * (U_tilde.T @ X_tilde)) / (np.abs(U_tilde.T @ U_tilde @ V_tilde) + e)))\n",
    "\n",
    "            Hu = V_tilde[:self.k, :]\n",
    "            Epu = V_tilde[self.k:self.k + self.m, :]\n",
    "            Enu = V_tilde[self.k + self.m:, :]\n",
    "\n",
    "            Eu = Epu - Enu  # Mathematically, this operation gives you back E\n",
    "\n",
    "            d_W = np.sqrt(np.sum((Wu - self.W) ** 2, axis=(0, 1))) / self.W.size\n",
    "            d_H = np.sqrt(np.sum((Hu - self.H) ** 2, axis=(0, 1))) / self.H.size\n",
    "            d_E = np.sqrt(np.sum((Eu - self.E) ** 2, axis=(0, 1))) / self.E.size\n",
    "\n",
    "            if d_W < d and d_H < d and d_E < d:\n",
    "                if verbose:\n",
    "                    print('Converged at step {}.'.format(s))\n",
    "                break\n",
    "\n",
    "            self.W = Wu\n",
    "            self.H = Hu\n",
    "            self.E = Eu\n",
    "\n",
    "            if plot and s % plot_interval == 0:\n",
    "                rre_, aa_, nmi_ = evaluate(self.X_clean, self.W, self.H, self.Y)\n",
    "                rre.append(rre_)\n",
    "                aa.append(aa_)\n",
    "                nmi.append(nmi_)\n",
    "\n",
    "                if verbose:\n",
    "                    print('Step: {}, RRE: {:.4f}, AA: {:.4f}, NMI: {:.4f}'.format(s, rre_, aa_, nmi_))\n",
    "\n",
    "        if plot:\n",
    "            plot_metrics(rre, aa, nmi, plot_interval)\n",
    "\n",
    "        if verbose:\n",
    "            print('Training Time taken: {:.2f} seconds.'.format(time() - start))\n",
    "\n",
    "        return self.W, self.H, self.E"
   ]
  },
  {
   "cell_type": "markdown",
   "id": "254741ed",
   "metadata": {},
   "source": [
    "##### Start training the L1 Norm based Robust NMF"
   ]
  },
  {
   "cell_type": "code",
   "execution_count": null,
   "id": "60e913cf",
   "metadata": {
    "scrolled": false
   },
   "outputs": [
    {
     "name": "stdout",
     "output_type": "stream",
     "text": [
      "Start training...\n",
      "Step: 0, RRE: 1.5822, AA: 0.1625, NMI: 0.2911\n",
      "Step: 50, RRE: 0.3118, AA: 0.1800, NMI: 0.3383\n",
      "Step: 100, RRE: 16.3412, AA: 0.1600, NMI: 0.2546\n",
      "Step: 150, RRE: 0.3289, AA: 0.1625, NMI: 0.2840\n",
      "Step: 200, RRE: 0.3144, AA: 0.1725, NMI: 0.2901\n",
      "Step: 250, RRE: 0.3230, AA: 0.1700, NMI: 0.3275\n",
      "Step: 300, RRE: 0.3227, AA: 0.2000, NMI: 0.3471\n",
      "Step: 350, RRE: 0.3234, AA: 0.1850, NMI: 0.3340\n",
      "Step: 400, RRE: 0.3230, AA: 0.1900, NMI: 0.3551\n"
     ]
    }
   ],
   "source": [
    "model2_n_components = global_n_components\n",
    "\n",
    "model2 = L1NormRobustNMF(model2_n_components)\n",
    "\n",
    "_, _, _ = model2.fit_transform(X_hat, X_noise, Y_hat, steps=global_max_step, verbose=True, plot=True)"
   ]
  },
  {
   "cell_type": "markdown",
   "id": "994599b0",
   "metadata": {},
   "source": [
    "##### Evaluate the output model using the pre-defined metrics"
   ]
  },
  {
   "cell_type": "code",
   "execution_count": null,
   "id": "2a082634",
   "metadata": {
    "scrolled": false
   },
   "outputs": [],
   "source": [
    "rre, aa, nmi = evaluate(X_hat, model2.W, model2.H, Y_hat)\n",
    "print(f\"RRE: {rre}, Average Accuracy: {aa}, NMI: {nmi}\")"
   ]
  },
  {
   "cell_type": "code",
   "execution_count": null,
   "id": "b6a65e1b",
   "metadata": {},
   "outputs": [],
   "source": [
    "X_rec2 = model2.reconstruct_train()"
   ]
  },
  {
   "cell_type": "markdown",
   "id": "36d41e5c",
   "metadata": {},
   "source": [
    "##### Print out the dictionary components"
   ]
  },
  {
   "cell_type": "code",
   "execution_count": null,
   "id": "3980d04b",
   "metadata": {},
   "outputs": [],
   "source": [
    "# Print out dictionary components\n",
    "\n",
    "plt.figure(figsize=(15,5))\n",
    "\n",
    "for i in range(model2_n_components // 10):\n",
    "    for j in range(10):\n",
    "        plt.subplot(model2_n_components // 10, 10, i * 10 + j + 1)\n",
    "        plt.imshow(model2.W[:, i * 10 + j].reshape(img_size[1], img_size[0]), cmap=plt.cm.gray)\n",
    "        \n",
    "plt.suptitle('Learned Dictionary Components', fontsize=16)\n",
    "plt.show()"
   ]
  },
  {
   "cell_type": "markdown",
   "id": "96faf939",
   "metadata": {},
   "source": [
    "##### Print out the first 30 learned noises from E"
   ]
  },
  {
   "cell_type": "code",
   "execution_count": null,
   "id": "afa9d04f",
   "metadata": {},
   "outputs": [],
   "source": [
    "# Print out the first 30 learned noises E\n",
    "\n",
    "plt.figure(figsize=(15,5))\n",
    "\n",
    "for i in range(3):\n",
    "    for j in range(10):\n",
    "        plt.subplot(3, 10, i * 10 + j + 1)\n",
    "        plt.imshow(model2.E[:, i * 10 + j].reshape(img_size[1], img_size[0]), cmap=plt.cm.gray)\n",
    "        \n",
    "plt.suptitle('Learned Noise E (First 30)', fontsize=16)\n",
    "plt.show()"
   ]
  },
  {
   "cell_type": "markdown",
   "id": "92357ab0",
   "metadata": {},
   "source": [
    "##### Display the original clean image, noise applied image and the reconstructed image by L1-Norm Robust NMF of a randomly chosen image."
   ]
  },
  {
   "cell_type": "code",
   "execution_count": null,
   "id": "961e926a",
   "metadata": {},
   "outputs": [],
   "source": [
    "s = np.random.randint(0, X_hat.shape[1])\n",
    "print(\"image index: \", s)\n",
    "\n",
    "plt.figure(figsize=(15,5))\n",
    "plt.subplot(131)\n",
    "plt.title(\"Original Image\", fontsize=16)\n",
    "plt.imshow(X_hat[:,s].reshape(img_size[1], img_size[0]), cmap=plt.cm.gray)\n",
    "\n",
    "plt.subplot(132)\n",
    "plt.title(\"Noisy Image\", fontsize=16)\n",
    "plt.imshow(X_noise[:,s].reshape(img_size[1], img_size[0]), cmap=plt.cm.gray)\n",
    "\n",
    "plt.subplot(133)\n",
    "plt.title(\"Reconstructed Image\", fontsize=16)\n",
    "plt.imshow(X_rec2[:,s].reshape(img_size[1], img_size[0]), cmap=plt.cm.gray)\n",
    "\n",
    "plt.show()"
   ]
  },
  {
   "cell_type": "markdown",
   "id": "42ec02fa",
   "metadata": {},
   "source": [
    "### 4.3 Robust nonnegative matrix factorization using L21-norm (L21 Norm based Robust NMF)"
   ]
  },
  {
   "cell_type": "code",
   "execution_count": null,
   "id": "08c4d24b",
   "metadata": {},
   "outputs": [],
   "source": [
    "class L21RobustNMF:\n",
    "    def __init__(self, rank, random_state=0):\n",
    "        \"\"\"\n",
    "        Initialization of the Robust Non-negative Matrix Factorization via L1 Norm Regularization NMF model.\n",
    "        Hyper-parameters are defined here.\n",
    "\n",
    "        :param rank: Rank of the dictionary matrix. Latent dimension.\n",
    "        :param random_state: Random seed.\n",
    "        \"\"\"\n",
    "        assert rank is not None and rank > 0, \"Please provide a valid integer for the rank of the dictionary matrix.\"\n",
    "\n",
    "        self.np_rand = np.random.RandomState(random_state)\n",
    "        self.rank = rank\n",
    "\n",
    "        self.X_clean, self.X, self.W, self.H, self.Y = None, None, None, None, None\n",
    "\n",
    "    def init_factors(self, X):\n",
    "        \"\"\"\n",
    "        Initialize the dictionary matrix and transformed data matrix *randomly*.\n",
    "\n",
    "        :param X: Original data matrix. (Contaminated)\n",
    "        :return: W, H\n",
    "        \"\"\"\n",
    "\n",
    "        self.W = np.abs(np.random.normal(loc=0, scale=1, size=(X.shape[0], self.rank)))\n",
    "        self.H = np.abs(np.random.normal(loc=0, scale=1, size=(self.rank, X.shape[1])))\n",
    "\n",
    "        return self.W, self.H\n",
    "\n",
    "    def reconstruct_train(self):\n",
    "        \"\"\"\n",
    "        Reconstruct the clean data matrix from the dictionary matrix and transformed data matrix.\n",
    "\n",
    "        :return: approximated clean data matrix.\n",
    "        \"\"\"\n",
    "        return self.W @ self.H\n",
    "\n",
    "    def fit_transform(self, X_clean, X, Y, steps=1000, e=1e-10, d=1e-6, verbose=False, plot=False, plot_interval=50):\n",
    "        \"\"\"\n",
    "        Perform the model learning via the specific MURs stated in the paper.\n",
    "\n",
    "        :param X_clean: Original non-contaminated data matrix.\n",
    "        :param X: Original contaminated data matrix.\n",
    "        :param Y: Original labels.\n",
    "        :param steps: Number of iterations.\n",
    "        :param e: epsilon, added to the updates avoid numerical instability.\n",
    "        :param d: delta, threshold for rate of change at each step.\n",
    "        :param verbose: True to print out the convergence information.\n",
    "        :param plot: True to plot the convergence curve on the three nominated metrics.\n",
    "        :param plot_interval: Plot the convergence curve on the metrics every plot_interval step.\n",
    "        :return: W, H\n",
    "        \"\"\"\n",
    "        assert X_clean is not None, \"Please provide the original non-contaminated data matrix from the dataset.\"\n",
    "        assert X is not None, \"Please provide the original data matrix from the dataset.\"\n",
    "        assert Y is not None, \"Please provide the original labels from the dataset.\"\n",
    "\n",
    "        self.init_factors(X)\n",
    "        self.X_clean, self.X, self.Y = X_clean, X, Y\n",
    "\n",
    "        rre, aa, nmi = [], [], []\n",
    "        \n",
    "        if verbose:\n",
    "            print(\"Start training...\")\n",
    "\n",
    "        start = time()\n",
    "\n",
    "        for s in range(steps):\n",
    "            D = np.diag(1 / (np.sqrt(np.sum((self.X - self.W @ self.H) ** 2, axis=0)) + e))\n",
    "\n",
    "            Wu = self.W * ((self.X @ D @ self.H.T) / (self.W @ self.H @ D @ self.H.T + e))\n",
    "            Hu = self.H * ((Wu .T @ self.X @ D) / (Wu .T @ Wu  @ self.H @ D + e))\n",
    "\n",
    "            d_W = np.sqrt(np.sum((Wu  - self.W) ** 2, axis=(0, 1))) / self.W.size\n",
    "            d_H = np.sqrt(np.sum((Hu - self.H) ** 2, axis=(0, 1))) / self.H.size\n",
    "\n",
    "            if d_W < d and d_H < d:\n",
    "                if verbose:\n",
    "                    print('Converged at step {}.'.format(s))\n",
    "                break\n",
    "\n",
    "            self.W = Wu\n",
    "            self.H = Hu\n",
    "\n",
    "            if plot and s % plot_interval == 0:\n",
    "                rre_, aa_, nmi_ = evaluate(self.X_clean, self.W, self.H, self.Y)\n",
    "                rre.append(rre_)\n",
    "                aa.append(aa_)\n",
    "                nmi.append(nmi_)\n",
    "\n",
    "                if verbose:\n",
    "                    print('Step: {}, RRE: {:.4f}, AA: {:.4f}, NMI: {:.4f}'.format(s, rre_, aa_, nmi_))\n",
    "\n",
    "        if plot:\n",
    "            plot_metrics(rre, aa, nmi, plot_interval)\n",
    "\n",
    "        if verbose:\n",
    "            print('Training Time taken: {:.2f} seconds.'.format(time() - start))\n",
    "\n",
    "        return self.W, self.H"
   ]
  },
  {
   "cell_type": "markdown",
   "id": "7bd61317",
   "metadata": {},
   "source": [
    "##### Start training the L21 Norm based Robust NMF"
   ]
  },
  {
   "cell_type": "code",
   "execution_count": null,
   "id": "2df58541",
   "metadata": {
    "scrolled": false
   },
   "outputs": [],
   "source": [
    "model3_n_components = global_n_components\n",
    "\n",
    "model3 = L21RobustNMF(model3_n_components)\n",
    "\n",
    "_, _ = model3.fit_transform(X_hat, X_noise, Y_hat, steps=global_max_step, verbose=True, plot=True)"
   ]
  },
  {
   "cell_type": "markdown",
   "id": "4ce74478",
   "metadata": {},
   "source": [
    "##### Evaluate the output model using the pre-defined metrics"
   ]
  },
  {
   "cell_type": "code",
   "execution_count": null,
   "id": "6ee74b98",
   "metadata": {
    "scrolled": true
   },
   "outputs": [],
   "source": [
    "rre, aa, nmi = evaluate(X_hat, model3.W, model3.H, Y_hat)\n",
    "print(f\"RRE: {rre}, Average Accuracy: {aa}, NMI: {nmi}\")"
   ]
  },
  {
   "cell_type": "code",
   "execution_count": null,
   "id": "152c1fae",
   "metadata": {},
   "outputs": [],
   "source": [
    "X_rec3 = model3.reconstruct_train()"
   ]
  },
  {
   "cell_type": "markdown",
   "id": "8d0373bc",
   "metadata": {},
   "source": [
    "##### Print out the dictionary components"
   ]
  },
  {
   "cell_type": "code",
   "execution_count": null,
   "id": "f8bc1d0c",
   "metadata": {},
   "outputs": [],
   "source": [
    "# Print out dictionary components\n",
    "\n",
    "plt.figure(figsize=(15, 5))\n",
    "\n",
    "for i in range(model3_n_components // 10):\n",
    "    for j in range(10):\n",
    "        plt.subplot(model3_n_components // 10, 10, i * 10 + j + 1)\n",
    "        plt.imshow(model3.W[:, i * 10 + j].reshape(img_size[1], img_size[0]), cmap=plt.cm.gray)\n",
    "        \n",
    "plt.suptitle('Learned Dictionary Components', fontsize=16)\n",
    "plt.show()"
   ]
  },
  {
   "cell_type": "markdown",
   "id": "60d20805",
   "metadata": {},
   "source": [
    "##### Display the original clean image, noise applied image and the reconstructed image by L21 Robust NMF of a randomly chosen image sample"
   ]
  },
  {
   "cell_type": "code",
   "execution_count": null,
   "id": "8ae39c6c",
   "metadata": {},
   "outputs": [],
   "source": [
    "s = np.random.randint(0, X_hat.shape[1])\n",
    "print(\"image index: \", s)\n",
    "\n",
    "plt.figure(figsize=(15,5))\n",
    "plt.subplot(131)\n",
    "plt.title(\"Original Image\", fontsize=16)\n",
    "plt.imshow(X_hat[:,s].reshape(img_size[1], img_size[0]), cmap=plt.cm.gray)\n",
    "\n",
    "plt.subplot(132)\n",
    "plt.title(\"Noisy Image\", fontsize=16)\n",
    "plt.imshow(X_noise[:,s].reshape(img_size[1], img_size[0]), cmap=plt.cm.gray)\n",
    "\n",
    "plt.subplot(133)\n",
    "plt.title(\"Reconstructed Image\", fontsize=16)\n",
    "plt.imshow(X_rec3[:,s].reshape(img_size[1], img_size[0]), cmap=plt.cm.gray)\n",
    "\n",
    "plt.show()"
   ]
  },
  {
   "cell_type": "markdown",
   "id": "34cb770a",
   "metadata": {},
   "source": [
    "## 5. Experiements"
   ]
  },
  {
   "cell_type": "code",
   "execution_count": null,
   "id": "2a4a04ac",
   "metadata": {},
   "outputs": [],
   "source": [
    "# setups\n",
    "n_experiments = 5\n",
    "train_size_ratio = 0.9"
   ]
  },
  {
   "cell_type": "code",
   "execution_count": null,
   "id": "597e03cf",
   "metadata": {
    "scrolled": true
   },
   "outputs": [],
   "source": [
    "def run_experiments(X_clean, Y, train_size_ratio, k, steps, n_experiments, noise_strength_traversal=False, verbose=False):\n",
    "    if verbose:\n",
    "        print(\"Starting experiments...\\n\")\n",
    "        \n",
    "    if noise_strength_traversal:\n",
    "        gaussian_sd_str = [0.02, 0.05, 0.07, 0.1, 0.15]\n",
    "        salt_pepper_p_str = [0.05, 0.1, 0.15, 0.2, 0.25]\n",
    "        block_occ_size_str = [0.1, 0.15, 0.2, 0.25, 0.3]\n",
    "    else:\n",
    "        gaussian_sd_str = [0.05]\n",
    "        salt_pepper_p_str = [0.3]\n",
    "        block_occ_size_str = [0.3]\n",
    "    \n",
    "    means = []  # [[means for the first noise], [...], [...]] - Will result in a 3 x 5 x 3 x 3 tensor\n",
    "    stds = []  # [[standard deviations for the first noise], [...], [...]]\n",
    "    \n",
    "    for n in [\"gaussian\", \"salt_pepper\", \"block_occ\"]:\n",
    "        if verbose:\n",
    "            print(\"****************************************\")\n",
    "            print(\"Running experiments with noise: \", n)\n",
    "            print(\"****************************************\\n\")\n",
    "        \n",
    "        n_means = []  # means under different noise\n",
    "        n_stds = []  # sd under different noise\n",
    "        \n",
    "        if n == \"gaussian\":\n",
    "            strengths = gaussian_sd_str\n",
    "        elif n == \"salt_pepper\":\n",
    "            strengths = salt_pepper_p_str         \n",
    "        else:\n",
    "            strengths = block_occ_size_str         \n",
    "        \n",
    "        for s in strengths:\n",
    "            if verbose:\n",
    "                print(\"^^^^^^^^^^^^^^^^^^^^^^^^^\")\n",
    "                print(\"Current strength: \", s)\n",
    "                print(\"^^^^^^^^^^^^^^^^^^^^^^^^^\\n\")\n",
    "            \n",
    "            ns_means = [] # mean of the three NMF algorithms across number of experiements - [(RRE, AA, NMI), (...), (...)]\n",
    "            ns_stds = [] # standard deviations of the three NMF algorithms across number of experiements under diff strengths\n",
    "            \n",
    "            for m in [\"StandardL2\", \"L1Robust\", \"L21Robust\"]:\n",
    "                if verbose:\n",
    "                    print(\"----------------------------------\")\n",
    "                    print(\"Current model being assessed: \", m)\n",
    "                    print(\"----------------------------------\")\n",
    "                \n",
    "                if m == \"StandardL2\":\n",
    "                    model = L2NormMURNMF(k)\n",
    "                elif m == \"L1Robust\":\n",
    "                    model = L1NormRobustNMF(k)\n",
    "                else:\n",
    "                    model = L21RobustNMF(k)\n",
    "\n",
    "                m_rre = []\n",
    "                m_aa = []\n",
    "                m_nmi = []\n",
    "\n",
    "                for i in range(n_experiments):\n",
    "                    n_samples = int(X_clean.shape[1] * train_size_ratio)\n",
    "                    sample_idx = np.random.choice(X_clean.shape[1], n_samples, replace=False) # Randomly pick samples\n",
    "                    X_clean_sampled = X_clean[:, sample_idx] # Sampled matrix\n",
    "                    Y_sampled = Y[sample_idx]\n",
    "\n",
    "                    if n == \"gaussian\":\n",
    "                        X_noise = add_gaussian_noise(X_clean_sampled, sd=s)\n",
    "                    elif n == \"salt_pepper\":\n",
    "                        X_noise = add_salt_pepper_noise(X_clean_sampled, noise_prob=s)\n",
    "                    else:\n",
    "                        X_noise = add_block_occlusion_noise(X_clean_sampled, img_size, width=s, height=s)\n",
    "\n",
    "                    model.fit_transform(X_clean_sampled, X_noise, Y_sampled, steps=steps)\n",
    "                    rre, aa, nmi = evaluate(X_clean_sampled, model.W, model.H, Y_sampled)\n",
    "\n",
    "                    m_rre.append(rre)\n",
    "                    m_aa.append(aa)\n",
    "                    m_nmi.append(nmi)\n",
    "\n",
    "                ns_means.append((np.mean(m_rre), np.mean(m_aa), np.mean(m_nmi)))\n",
    "                ns_stds.append((np.std(m_rre), np.std(m_aa), np.std(m_nmi)))\n",
    "                \n",
    "                if verbose:\n",
    "                    print(\"{} experiments completed.\\nMean metrics values: {}\\nSD Metrics values: {}\".format(n_experiments, ns_means[-1], ns_stds[-1]))\n",
    "                \n",
    "            n_means.append(ns_means)\n",
    "            n_stds.append(ns_stds)\n",
    "        \n",
    "        means.append(n_means)\n",
    "        stds.append(n_stds)\n",
    "        \n",
    "    if verbose:\n",
    "        print(\"\\nAll experiments completed. Exiting...\")\n",
    "    \n",
    "    return means, stds"
   ]
  },
  {
   "cell_type": "code",
   "execution_count": null,
   "id": "9fd7cf2a",
   "metadata": {
    "scrolled": false
   },
   "outputs": [],
   "source": [
    "reduce_ = 3\n",
    "\n",
    "# Load ORL dataset.\n",
    "X_hat, Y_hat = load_data(root='../data/ORL', reduce=reduce_)\n",
    "print('ORL dataset: X_hat.shape = {}, Y_hat.shape = {}'.format(X_hat.shape, Y_hat.shape))\n",
    "img_size = [i // reduce_ for i in (92, 112)]\n",
    "\n",
    "n_components = 40\n",
    "max_steps = 500\n",
    "\n",
    "results_orl = run_experiments(X_hat, Y_hat, train_size_ratio, n_components, max_steps, n_experiments, noise_strength_traversal=True, verbose=True)\n",
    "results_orl"
   ]
  },
  {
   "cell_type": "code",
   "execution_count": null,
   "id": "c1cd0df8",
   "metadata": {},
   "outputs": [],
   "source": [
    "reduce_ = 4\n",
    "\n",
    "# Load Extended YaleB dataset.\n",
    "X_hat, Y_hat = load_data(root='../data/CroppedYaleB', reduce=reduce_)\n",
    "print('Extended YaleB dataset: X_hat.shape = {}, Y_hat.shape = {}'.format(X_hat.shape, Y_hat.shape))\n",
    "img_size = [i // reduce_ for i in (168, 192)]\n",
    "\n",
    "n_components = 80\n",
    "max_steps = 1000\n",
    "\n",
    "results_yaleb = run_experiments(X_hat, Y_hat, train_size_ratio, n_components, max_steps, n_experiments, noise_strength_traversal=True, verbose=True)\n",
    "results_yaleb"
   ]
  },
  {
   "cell_type": "code",
   "execution_count": null,
   "id": "c3177aab",
   "metadata": {},
   "outputs": [],
   "source": [
    "noise_types = [\"Gaussian Noise\", \"Salt & Pepper Noise\", \"Block Occulusion Noise\"]\n",
    "\n",
    "metrics = [\"RRE\", \"Average Accuracy\", \"NMI\"]\n",
    "\n",
    "nmf_models = [\"Standard L2 Norm based NMF\", \"L1 Norm Regularized Robust NMF\", \"L21 Norm based Robust NMF\"]\n",
    "\n",
    "# Strengths\n",
    "gaussian_sd_str = [0.02, 0.05, 0.07, 0.1, 0.15]\n",
    "salt_pepper_p_str = [0.05, 0.1, 0.15, 0.2, 0.25]\n",
    "block_occ_size_str = [0.1, 0.15, 0.2, 0.25, 0.3]\n",
    "\n",
    "strengths_list = [gaussian_sd_str, salt_pepper_p_str, block_occ_size_str]\n",
    "\n",
    "# Loop through each type of noise\n",
    "for i, noise_type in enumerate(noise_types):\n",
    "    strengths = strengths_list[i]\n",
    "        \n",
    "    plt.figure(figsize=(18, 6))\n",
    "    \n",
    "    for j, metric in enumerate(metrics):\n",
    "        plt.subplot(1, 3, j+1)  # Create a subplot for each metric within a set\n",
    "        \n",
    "        for k, nmf in enumerate(nmf_models):\n",
    "            y_values = results[i, :, k, j]\n",
    "            plt.plot(strengths, y_values, label=f\"{nmf}\")\n",
    "        \n",
    "        # Add title and labels\n",
    "        plt.title(f\"{metric} for {noise_type}\")\n",
    "        plt.xlabel(\"Noise Strength\")\n",
    "        plt.ylabel(metric)\n",
    "        \n",
    "        plt.legend()\n",
    "    \n",
    "    plt.suptitle(f\"Graphs for {noise_type}\")\n",
    "    plt.show()"
   ]
  },
  {
   "cell_type": "code",
   "execution_count": null,
   "id": "8fb3b6ef",
   "metadata": {},
   "outputs": [],
   "source": []
  },
  {
   "cell_type": "code",
   "execution_count": null,
   "id": "24683180",
   "metadata": {},
   "outputs": [],
   "source": []
  }
 ],
 "metadata": {
  "kernelspec": {
   "display_name": "Python 3 (ipykernel)",
   "language": "python",
   "name": "python3"
  },
  "language_info": {
   "codemirror_mode": {
    "name": "ipython",
    "version": 3
   },
   "file_extension": ".py",
   "mimetype": "text/x-python",
   "name": "python",
   "nbconvert_exporter": "python",
   "pygments_lexer": "ipython3",
   "version": "3.8.6"
  }
 },
 "nbformat": 4,
 "nbformat_minor": 5
}
